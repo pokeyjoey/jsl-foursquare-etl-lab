{
 "cells": [
  {
   "cell_type": "markdown",
   "metadata": {},
   "source": [
    "# Foursquare ETL"
   ]
  },
  {
   "cell_type": "markdown",
   "metadata": {},
   "source": [
    "### Introduction"
   ]
  },
  {
   "cell_type": "markdown",
   "metadata": {},
   "source": [
    "In this lesson, let's use the Foursquare API to practice the ETL pattern.  We can also use it to practice the refactoring process."
   ]
  },
  {
   "cell_type": "markdown",
   "metadata": {},
   "source": [
    "### Back to Foursquare"
   ]
  },
  {
   "cell_type": "markdown",
   "metadata": {},
   "source": [
    "1. Starting with our previous code"
   ]
  },
  {
   "cell_type": "code",
   "execution_count": 1,
   "metadata": {},
   "outputs": [],
   "source": [
    "import requests \n",
    "\n",
    "def venue_search(query_params = {'ll': \"40.7,-74\", \"query\": \"tacos\"}):\n",
    "    client_id = \"ALECV5CBBEHRRKTIQ5ZV143YEXOH3SBLAMU54SPHKGZI1ZKE\"\n",
    "    client_secret = \"3JX3NRGRS2P0KE0NSKPTMCOZOY4MWUU4M3G33BO4XTRJ15SM\"\n",
    "    date = \"20190407\"\n",
    "    \n",
    "    auth_params = {'client_id': client_id, \n",
    "               'client_secret': client_secret,\n",
    "               'v': date}\n",
    "    params = auth_params.copy()\n",
    "    params.update(query_params)\n",
    "    url = \"https://api.foursquare.com/v2/venues/search\"\n",
    "    response = requests.get(url, params)\n",
    "    return response.json()['response']['venues']"
   ]
  },
  {
   "cell_type": "code",
   "execution_count": 2,
   "metadata": {},
   "outputs": [],
   "source": [
    "venues_from_api = venue_search()"
   ]
  },
  {
   "cell_type": "code",
   "execution_count": 4,
   "metadata": {},
   "outputs": [],
   "source": [
    "# venues_from_api[:1]"
   ]
  },
  {
   "cell_type": "code",
   "execution_count": 5,
   "metadata": {},
   "outputs": [],
   "source": [
    "venue_from_api = venues_from_api[0]\n",
    "# venue_from_api"
   ]
  },
  {
   "cell_type": "markdown",
   "metadata": {},
   "source": [
    "### Building our codebase"
   ]
  },
  {
   "cell_type": "markdown",
   "metadata": {},
   "source": [
    "Now from here, we'll turn this into a codebase using the pattern learned previously.  We can get a sense of the overall structure by looking at the code in the `index.py` file.  That file has just a few lines of code that calls our api and extracts the data.\n",
    "\n",
    "When everything's setup properly, we can simply call the `run` function in `index.py` and get back our list of venue instances with data from the api. "
   ]
  },
  {
   "cell_type": "markdown",
   "metadata": {},
   "source": [
    "<img src=\"./working-code.png\" width=\"100%\">"
   ]
  },
  {
   "cell_type": "markdown",
   "metadata": {},
   "source": [
    "To get this working, we'll need to fill in the code in `client.py` file, the `venue.py` file and the `venue_builder.py`.  Go to the corresponding test files to see the remaining instructions.  And we recommend working on the codebase in that order: `client`, `venue`, and then `venue_builder`."
   ]
  }
 ],
 "metadata": {
  "kernelspec": {
   "display_name": "Python 3 (ipykernel)",
   "language": "python",
   "name": "python3"
  },
  "language_info": {
   "codemirror_mode": {
    "name": "ipython",
    "version": 3
   },
   "file_extension": ".py",
   "mimetype": "text/x-python",
   "name": "python",
   "nbconvert_exporter": "python",
   "pygments_lexer": "ipython3",
   "version": "3.9.7"
  }
 },
 "nbformat": 4,
 "nbformat_minor": 4
}
